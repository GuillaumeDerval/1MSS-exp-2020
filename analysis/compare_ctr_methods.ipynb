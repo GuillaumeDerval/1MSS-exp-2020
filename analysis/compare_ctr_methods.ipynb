{
 "cells": [
  {
   "cell_type": "code",
   "source": [
    "%load_ext sql\n",
    "%sql sqlite:///../results/synthetic_small.db\n",
    "import yaml\n",
    "from IPython.display import HTML, display\n",
    "import tabulate"
   ],
   "metadata": {
    "collapsed": false,
    "pycharm": {
     "name": "#%% \n",
     "is_executing": false
    }
   },
   "execution_count": 2,
   "outputs": [
    {
     "name": "stdout",
     "text": [
      "The sql extension is already loaded. To reload it, use:\n",
      "  %reload_ext sql\n"
     ],
     "output_type": "stream"
    }
   ]
  },
  {
   "cell_type": "markdown",
   "source": [
    "Here is the list of all the various \"powers\" for the constraint presented in the paper."
   ],
   "metadata": {
    "collapsed": false,
    "pycharm": {
     "name": "#%% md\n",
     "is_executing": false
    }
   }
  },
  {
   "cell_type": "code",
   "execution_count": 3,
   "outputs": [
    {
     "name": "stdout",
     "text": [
      "nothing\n",
      "lpbound-fast-no-recompute\n",
      "lpbound-fast-no-recompute-filter-row\n",
      "lpbound-recompute\n",
      "lpbound-recompute-filter-row\n",
      "lpbound-recompute-partial-2-filter-row\n",
      "lpbound-recompute-partial-5-filter-row\n"
     ],
     "output_type": "stream"
    }
   ],
   "source": [
    "config = yaml.load(open(\"../config.yaml\").read(), Loader=yaml.SafeLoader)\n",
    "ctr_methods = config[\"ctr_methods\"]\n",
    "print(\"\\n\".join(ctr_methods))"
   ],
   "metadata": {
    "collapsed": false,
    "pycharm": {
     "name": "#%%\n",
     "is_executing": false
    }
   }
  },
  {
   "cell_type": "markdown",
   "source": [
    "These can be applied two times: one in the row/column direction (direct) \n",
    "and the other in the column/row direction (transpose).\n",
    "Moreover, we also have various types of branching methods."
   ],
   "metadata": {
    "collapsed": false,
    "pycharm": {
     "name": "#%% md\n"
    }
   }
  },
  {
   "cell_type": "code",
   "execution_count": 4,
   "outputs": [
    {
     "name": "stdout",
     "text": [
      "static\n",
      "dynamic\n"
     ],
     "output_type": "stream"
    }
   ],
   "source": [
    "branch_methods = config[\"branch_methods\"]\n",
    "print(\"\\n\".join(branch_methods))"
   ],
   "metadata": {
    "collapsed": false,
    "pycharm": {
     "name": "#%%\n",
     "is_executing": false
    }
   }
  },
  {
   "cell_type": "markdown",
   "source": [
    "Let us focus on the static branchings. We compare against nothing/nothing (which is the model with only the base constraint\n",
    "from Branders et al.)."
   ],
   "metadata": {
    "collapsed": false,
    "pycharm": {
     "name": "#%% md\n"
    }
   }
  },
  {
   "cell_type": "code",
   "source": [
    "%%sql\n",
    "SELECT\n",
    "       runs.size,\n",
    "       -- runs.mean, runs.sigma,\n",
    "       runs.ctr,\n",
    "       AVG(CAST(nns.n_nodes as FLOAT)/runs.n_nodes) as n_nodes_ratio_mean,\n",
    "       MIN(CAST(nns.n_nodes as FLOAT)/runs.n_nodes) as n_nodes_ratio_min,\n",
    "       MAX(CAST(nns.n_nodes as FLOAT)/runs.n_nodes) as n_nodes_ratio_max\n",
    "FROM runs\n",
    "LEFT JOIN (SELECT * FROM runs WHERE ctr = \"nothing\" AND branching = \"static\") as nns\n",
    "ON nns.size = runs.size AND nns.mean = runs.mean AND nns.sigma = runs.sigma AND nns.dataset_id = runs.dataset_id\n",
    "WHERE runs.branching = \"static\" and runs.mean = -0.2\n",
    "GROUP BY \n",
    "    -- runs.n_rows, runs.n_cols, runs.p_sol,\n",
    "    runs.ctr, runs.size\n",
    "ORDER BY runs.size, runs.ctr ASC"
   ],
   "metadata": {
    "collapsed": false,
    "pycharm": {
     "name": "#%%\n",
     "is_executing": false
    }
   },
   "execution_count": 25,
   "outputs": [
    {
     "name": "stdout",
     "text": [
      " * sqlite:///../results/synthetic_small.db\n",
      "Done.\n"
     ],
     "output_type": "stream"
    },
    {
     "data": {
      "text/plain": "[(10, 'lpbound-fast-no-recompute', 1.0708805031446542, 1.0, 1.2352941176470589),\n (10, 'lpbound-fast-no-recompute-filter-row', 1.3184892830792818, 1.1095890410958904, 1.9090909090909092),\n (10, 'lpbound-recompute', 2.301216910727208, 1.64, 3.230769230769231),\n (10, 'lpbound-recompute-filter-row', 2.831301257920823, 1.6956521739130435, 3.8260869565217392),\n (10, 'lpbound-recompute-partial-2-filter-row', 2.013067877934873, 1.3448275862068966, 3.111111111111111),\n (10, 'lpbound-recompute-partial-5-filter-row', 1.3766790081183218, 1.1142857142857143, 2.1),\n (10, 'nothing', 1.0, 1.0, 1.0),\n (12, 'lpbound-fast-no-recompute', 1.0559965872960868, 1.0, 1.15),\n (12, 'lpbound-fast-no-recompute-filter-row', 1.3695846830249647, 1.0512820512820513, 1.7924528301886793),\n (12, 'lpbound-recompute', 2.3058197467770944, 1.3043478260869565, 3.5384615384615383),\n (12, 'lpbound-recompute-filter-row', 3.01975923333619, 1.607843137254902, 4.6),\n (12, 'lpbound-recompute-partial-2-filter-row', 2.0945073065957547, 1.2615384615384615, 2.8),\n (12, 'lpbound-recompute-partial-5-filter-row', 1.412110724135675, 1.0512820512820513, 1.7924528301886793),\n (12, 'nothing', 1.0, 1.0, 1.0),\n (14, 'lpbound-fast-no-recompute', 1.0888081389241537, 1.0, 1.385321100917431),\n (14, 'lpbound-fast-no-recompute-filter-row', 1.5330839099992217, 1.0611353711790392, 2.559322033898305),\n (14, 'lpbound-recompute', 2.968159141617765, 1.6744186046511629, 4.115384615384615),\n (14, 'lpbound-recompute-filter-row', 4.010790204682753, 2.1492537313432836, 6.484848484848484),\n (14, 'lpbound-recompute-partial-2-filter-row', 2.4655250374605413, 1.5319148936170213, 3.754385964912281),\n (14, 'lpbound-recompute-partial-5-filter-row', 1.5753002451011848, 1.0827067669172932, 2.6964285714285716),\n (14, 'nothing', 1.0, 1.0, 1.0),\n (16, 'lpbound-fast-no-recompute', 1.0652954780548578, 1.0, 1.3227665706051874),\n (16, 'lpbound-fast-no-recompute-filter-row', 1.3616243779364139, 1.005966587112172, 2.1342155009451798),\n (16, 'lpbound-recompute', 3.931209763181169, 1.547008547008547, 7.840989399293286),\n (16, 'lpbound-recompute-filter-row', 5.015925756979209, 2.0475113122171944, 9.68995633187773),\n (16, 'lpbound-recompute-partial-2-filter-row', 2.6961524515751303, 1.5235690235690236, 4.049270072992701),\n (16, 'lpbound-recompute-partial-5-filter-row', 1.4108970711550926, 1.0255474452554745, 2.2808080808080806),\n (16, 'nothing', 1.0, 1.0, 1.0),\n (18, 'lpbound-fast-no-recompute', 1.0346964730847648, 1.0, 1.1402763018065887),\n (18, 'lpbound-fast-no-recompute-filter-row', 1.2448099458297603, 1.0241726618705036, 1.6984566679857538),\n (18, 'lpbound-recompute', 3.7520530272899024, 2.1342546890424483, 5.318537859007833),\n (18, 'lpbound-recompute-filter-row', 4.829892698410128, 2.4210526315789473, 7.5724907063197024),\n (18, 'lpbound-recompute-partial-2-filter-row', 2.4811017530232196, 1.5838827838827838, 3.286370597243492),\n (18, 'lpbound-recompute-partial-5-filter-row', 1.278621325292804, 1.0684479135394775, 1.721620537505014),\n (18, 'nothing', 1.0, 1.0, 1.0),\n (20, 'lpbound-fast-no-recompute', 1.0139301413448374, 1.0, 1.0880708294501398),\n (20, 'lpbound-fast-no-recompute-filter-row', 1.2020529596046252, 1.0018757327080892, 1.784379358437936),\n (20, 'lpbound-recompute', 3.6519102614892036, 2.24207102195717, 7.037091551368855),\n (20, 'lpbound-recompute-filter-row', 4.451210690982226, 2.8190184049079754, 8.639320563787496),\n (20, 'lpbound-recompute-partial-2-filter-row', 2.2959216882105737, 1.6655622685636329, 3.1073703366696996),\n (20, 'lpbound-recompute-partial-5-filter-row', 1.2270368405904652, 1.0217599234815877, 1.7933837959069245),\n (20, 'nothing', 1.0, 1.0, 1.0),\n (22, 'lpbound-fast-no-recompute', 1.0061158172823594, 1.0, 1.0512967939503781),\n (22, 'lpbound-fast-no-recompute-filter-row', 1.0967129682924999, 1.0028808560257905, 1.5997907750832145),\n (22, 'lpbound-recompute', 4.576470792748972, 1.7913284809132324, 8.502729478366357),\n (22, 'lpbound-recompute-filter-row', 5.650963729080394, 2.250592105263158, 10.783205128205129),\n (22, 'lpbound-recompute-partial-2-filter-row', 2.4672151788952466, 1.5348618090452262, 4.0059535149552294),\n (22, 'lpbound-recompute-partial-5-filter-row', 1.1397209214415913, 1.0316656111462952, 1.6406390200132641),\n (22, 'nothing', 1.0, 1.0, 1.0),\n (24, 'lpbound-fast-no-recompute', 1.0102615064276403, 1.0, 1.0615369386610354),\n (24, 'lpbound-fast-no-recompute-filter-row', 1.1038196616679736, 1.001045023077593, 1.418893887271765),\n (24, 'lpbound-recompute', 5.2932869210561835, 2.835773505027342, 11.320197044334975),\n (24, 'lpbound-recompute-filter-row', 6.312708788109743, 3.341160812630033, 13.212320328542095),\n (24, 'lpbound-recompute-partial-2-filter-row', 2.744175377121721, 1.6743200147189599, 4.233157894736842),\n (24, 'lpbound-recompute-partial-5-filter-row', 1.1555139069787412, 1.0286886404099589, 1.559400901555911),\n (24, 'nothing', 1.0, 1.0, 1.0),\n (26, 'lpbound-fast-no-recompute', 1.0011715212292747, 1.0, 1.0091184914524338),\n (26, 'lpbound-fast-no-recompute-filter-row', 1.0278965408819085, 1.000387883802942, 1.1564690707195333),\n (26, 'lpbound-recompute', 4.6705329285374155, 2.6113858044483447, 7.605903970838686),\n (26, 'lpbound-recompute-filter-row', 5.453817963225756, 3.2963148365108106, 8.998621372264838),\n (26, 'lpbound-recompute-partial-2-filter-row', 2.3410643343758117, 1.5446900048912446, 3.1712822812721906),\n (26, 'lpbound-recompute-partial-5-filter-row', 1.0858663543135685, 1.0303179554534012, 1.1957900027061508),\n (26, 'nothing', 1.0, 1.0, 1.0),\n (28, 'lpbound-fast-no-recompute', 1.0027099997904305, 1.0, 1.0226215778867598),\n (28, 'lpbound-fast-no-recompute-filter-row', 1.1073437252782965, 1.0011160395970848, 1.535526092481673),\n (28, 'lpbound-recompute', 5.695784588074259, 3.009715216653805, 13.400189160197925),\n (28, 'lpbound-recompute-filter-row', 6.560150172481544, 3.337741910144412, 15.800337281888778),\n (28, 'lpbound-recompute-partial-2-filter-row', 3.0844989669628022, 1.8077862694561568, 5.0797654651345825),\n (28, 'lpbound-recompute-partial-5-filter-row', 1.1651374892224344, 1.037356890459364, 1.592761754688404),\n (28, 'nothing', 1.0, 1.0, 1.0),\n (30, 'lpbound-fast-no-recompute', 1.0004541866084735, 1.0, 1.0029487029761144),\n (30, 'lpbound-fast-no-recompute-filter-row', 1.0247071379528396, 1.0006439822865119, 1.0919030092380624),\n (30, 'lpbound-recompute', 7.5128555837344155, 3.552376594309253, 11.388648208525009),\n (30, 'lpbound-recompute-filter-row', 8.5676175155142, 4.367369641912358, 12.38267210046805),\n (30, 'lpbound-recompute-partial-2-filter-row', 3.485855189173678, 2.6385171775090694, 4.926133146686045),\n (30, 'lpbound-recompute-partial-5-filter-row', 1.100391762196018, 1.0486366947162524, 1.2035669925747563),\n (30, 'nothing', 1.0, 1.0, 1.0)]",
      "text/html": "<table>\n    <tr>\n        <th>size</th>\n        <th>ctr</th>\n        <th>n_nodes_ratio_mean</th>\n        <th>n_nodes_ratio_min</th>\n        <th>n_nodes_ratio_max</th>\n    </tr>\n    <tr>\n        <td>10</td>\n        <td>lpbound-fast-no-recompute</td>\n        <td>1.0708805031446542</td>\n        <td>1.0</td>\n        <td>1.2352941176470589</td>\n    </tr>\n    <tr>\n        <td>10</td>\n        <td>lpbound-fast-no-recompute-filter-row</td>\n        <td>1.3184892830792818</td>\n        <td>1.1095890410958904</td>\n        <td>1.9090909090909092</td>\n    </tr>\n    <tr>\n        <td>10</td>\n        <td>lpbound-recompute</td>\n        <td>2.301216910727208</td>\n        <td>1.64</td>\n        <td>3.230769230769231</td>\n    </tr>\n    <tr>\n        <td>10</td>\n        <td>lpbound-recompute-filter-row</td>\n        <td>2.831301257920823</td>\n        <td>1.6956521739130435</td>\n        <td>3.8260869565217392</td>\n    </tr>\n    <tr>\n        <td>10</td>\n        <td>lpbound-recompute-partial-2-filter-row</td>\n        <td>2.013067877934873</td>\n        <td>1.3448275862068966</td>\n        <td>3.111111111111111</td>\n    </tr>\n    <tr>\n        <td>10</td>\n        <td>lpbound-recompute-partial-5-filter-row</td>\n        <td>1.3766790081183218</td>\n        <td>1.1142857142857143</td>\n        <td>2.1</td>\n    </tr>\n    <tr>\n        <td>10</td>\n        <td>nothing</td>\n        <td>1.0</td>\n        <td>1.0</td>\n        <td>1.0</td>\n    </tr>\n    <tr>\n        <td>12</td>\n        <td>lpbound-fast-no-recompute</td>\n        <td>1.0559965872960868</td>\n        <td>1.0</td>\n        <td>1.15</td>\n    </tr>\n    <tr>\n        <td>12</td>\n        <td>lpbound-fast-no-recompute-filter-row</td>\n        <td>1.3695846830249647</td>\n        <td>1.0512820512820513</td>\n        <td>1.7924528301886793</td>\n    </tr>\n    <tr>\n        <td>12</td>\n        <td>lpbound-recompute</td>\n        <td>2.3058197467770944</td>\n        <td>1.3043478260869565</td>\n        <td>3.5384615384615383</td>\n    </tr>\n    <tr>\n        <td>12</td>\n        <td>lpbound-recompute-filter-row</td>\n        <td>3.01975923333619</td>\n        <td>1.607843137254902</td>\n        <td>4.6</td>\n    </tr>\n    <tr>\n        <td>12</td>\n        <td>lpbound-recompute-partial-2-filter-row</td>\n        <td>2.0945073065957547</td>\n        <td>1.2615384615384615</td>\n        <td>2.8</td>\n    </tr>\n    <tr>\n        <td>12</td>\n        <td>lpbound-recompute-partial-5-filter-row</td>\n        <td>1.412110724135675</td>\n        <td>1.0512820512820513</td>\n        <td>1.7924528301886793</td>\n    </tr>\n    <tr>\n        <td>12</td>\n        <td>nothing</td>\n        <td>1.0</td>\n        <td>1.0</td>\n        <td>1.0</td>\n    </tr>\n    <tr>\n        <td>14</td>\n        <td>lpbound-fast-no-recompute</td>\n        <td>1.0888081389241537</td>\n        <td>1.0</td>\n        <td>1.385321100917431</td>\n    </tr>\n    <tr>\n        <td>14</td>\n        <td>lpbound-fast-no-recompute-filter-row</td>\n        <td>1.5330839099992217</td>\n        <td>1.0611353711790392</td>\n        <td>2.559322033898305</td>\n    </tr>\n    <tr>\n        <td>14</td>\n        <td>lpbound-recompute</td>\n        <td>2.968159141617765</td>\n        <td>1.6744186046511629</td>\n        <td>4.115384615384615</td>\n    </tr>\n    <tr>\n        <td>14</td>\n        <td>lpbound-recompute-filter-row</td>\n        <td>4.010790204682753</td>\n        <td>2.1492537313432836</td>\n        <td>6.484848484848484</td>\n    </tr>\n    <tr>\n        <td>14</td>\n        <td>lpbound-recompute-partial-2-filter-row</td>\n        <td>2.4655250374605413</td>\n        <td>1.5319148936170213</td>\n        <td>3.754385964912281</td>\n    </tr>\n    <tr>\n        <td>14</td>\n        <td>lpbound-recompute-partial-5-filter-row</td>\n        <td>1.5753002451011848</td>\n        <td>1.0827067669172932</td>\n        <td>2.6964285714285716</td>\n    </tr>\n    <tr>\n        <td>14</td>\n        <td>nothing</td>\n        <td>1.0</td>\n        <td>1.0</td>\n        <td>1.0</td>\n    </tr>\n    <tr>\n        <td>16</td>\n        <td>lpbound-fast-no-recompute</td>\n        <td>1.0652954780548578</td>\n        <td>1.0</td>\n        <td>1.3227665706051874</td>\n    </tr>\n    <tr>\n        <td>16</td>\n        <td>lpbound-fast-no-recompute-filter-row</td>\n        <td>1.3616243779364139</td>\n        <td>1.005966587112172</td>\n        <td>2.1342155009451798</td>\n    </tr>\n    <tr>\n        <td>16</td>\n        <td>lpbound-recompute</td>\n        <td>3.931209763181169</td>\n        <td>1.547008547008547</td>\n        <td>7.840989399293286</td>\n    </tr>\n    <tr>\n        <td>16</td>\n        <td>lpbound-recompute-filter-row</td>\n        <td>5.015925756979209</td>\n        <td>2.0475113122171944</td>\n        <td>9.68995633187773</td>\n    </tr>\n    <tr>\n        <td>16</td>\n        <td>lpbound-recompute-partial-2-filter-row</td>\n        <td>2.6961524515751303</td>\n        <td>1.5235690235690236</td>\n        <td>4.049270072992701</td>\n    </tr>\n    <tr>\n        <td>16</td>\n        <td>lpbound-recompute-partial-5-filter-row</td>\n        <td>1.4108970711550926</td>\n        <td>1.0255474452554745</td>\n        <td>2.2808080808080806</td>\n    </tr>\n    <tr>\n        <td>16</td>\n        <td>nothing</td>\n        <td>1.0</td>\n        <td>1.0</td>\n        <td>1.0</td>\n    </tr>\n    <tr>\n        <td>18</td>\n        <td>lpbound-fast-no-recompute</td>\n        <td>1.0346964730847648</td>\n        <td>1.0</td>\n        <td>1.1402763018065887</td>\n    </tr>\n    <tr>\n        <td>18</td>\n        <td>lpbound-fast-no-recompute-filter-row</td>\n        <td>1.2448099458297603</td>\n        <td>1.0241726618705036</td>\n        <td>1.6984566679857538</td>\n    </tr>\n    <tr>\n        <td>18</td>\n        <td>lpbound-recompute</td>\n        <td>3.7520530272899024</td>\n        <td>2.1342546890424483</td>\n        <td>5.318537859007833</td>\n    </tr>\n    <tr>\n        <td>18</td>\n        <td>lpbound-recompute-filter-row</td>\n        <td>4.829892698410128</td>\n        <td>2.4210526315789473</td>\n        <td>7.5724907063197024</td>\n    </tr>\n    <tr>\n        <td>18</td>\n        <td>lpbound-recompute-partial-2-filter-row</td>\n        <td>2.4811017530232196</td>\n        <td>1.5838827838827838</td>\n        <td>3.286370597243492</td>\n    </tr>\n    <tr>\n        <td>18</td>\n        <td>lpbound-recompute-partial-5-filter-row</td>\n        <td>1.278621325292804</td>\n        <td>1.0684479135394775</td>\n        <td>1.721620537505014</td>\n    </tr>\n    <tr>\n        <td>18</td>\n        <td>nothing</td>\n        <td>1.0</td>\n        <td>1.0</td>\n        <td>1.0</td>\n    </tr>\n    <tr>\n        <td>20</td>\n        <td>lpbound-fast-no-recompute</td>\n        <td>1.0139301413448374</td>\n        <td>1.0</td>\n        <td>1.0880708294501398</td>\n    </tr>\n    <tr>\n        <td>20</td>\n        <td>lpbound-fast-no-recompute-filter-row</td>\n        <td>1.2020529596046252</td>\n        <td>1.0018757327080892</td>\n        <td>1.784379358437936</td>\n    </tr>\n    <tr>\n        <td>20</td>\n        <td>lpbound-recompute</td>\n        <td>3.6519102614892036</td>\n        <td>2.24207102195717</td>\n        <td>7.037091551368855</td>\n    </tr>\n    <tr>\n        <td>20</td>\n        <td>lpbound-recompute-filter-row</td>\n        <td>4.451210690982226</td>\n        <td>2.8190184049079754</td>\n        <td>8.639320563787496</td>\n    </tr>\n    <tr>\n        <td>20</td>\n        <td>lpbound-recompute-partial-2-filter-row</td>\n        <td>2.2959216882105737</td>\n        <td>1.6655622685636329</td>\n        <td>3.1073703366696996</td>\n    </tr>\n    <tr>\n        <td>20</td>\n        <td>lpbound-recompute-partial-5-filter-row</td>\n        <td>1.2270368405904652</td>\n        <td>1.0217599234815877</td>\n        <td>1.7933837959069245</td>\n    </tr>\n    <tr>\n        <td>20</td>\n        <td>nothing</td>\n        <td>1.0</td>\n        <td>1.0</td>\n        <td>1.0</td>\n    </tr>\n    <tr>\n        <td>22</td>\n        <td>lpbound-fast-no-recompute</td>\n        <td>1.0061158172823594</td>\n        <td>1.0</td>\n        <td>1.0512967939503781</td>\n    </tr>\n    <tr>\n        <td>22</td>\n        <td>lpbound-fast-no-recompute-filter-row</td>\n        <td>1.0967129682924999</td>\n        <td>1.0028808560257905</td>\n        <td>1.5997907750832145</td>\n    </tr>\n    <tr>\n        <td>22</td>\n        <td>lpbound-recompute</td>\n        <td>4.576470792748972</td>\n        <td>1.7913284809132324</td>\n        <td>8.502729478366357</td>\n    </tr>\n    <tr>\n        <td>22</td>\n        <td>lpbound-recompute-filter-row</td>\n        <td>5.650963729080394</td>\n        <td>2.250592105263158</td>\n        <td>10.783205128205129</td>\n    </tr>\n    <tr>\n        <td>22</td>\n        <td>lpbound-recompute-partial-2-filter-row</td>\n        <td>2.4672151788952466</td>\n        <td>1.5348618090452262</td>\n        <td>4.0059535149552294</td>\n    </tr>\n    <tr>\n        <td>22</td>\n        <td>lpbound-recompute-partial-5-filter-row</td>\n        <td>1.1397209214415913</td>\n        <td>1.0316656111462952</td>\n        <td>1.6406390200132641</td>\n    </tr>\n    <tr>\n        <td>22</td>\n        <td>nothing</td>\n        <td>1.0</td>\n        <td>1.0</td>\n        <td>1.0</td>\n    </tr>\n    <tr>\n        <td>24</td>\n        <td>lpbound-fast-no-recompute</td>\n        <td>1.0102615064276403</td>\n        <td>1.0</td>\n        <td>1.0615369386610354</td>\n    </tr>\n    <tr>\n        <td>24</td>\n        <td>lpbound-fast-no-recompute-filter-row</td>\n        <td>1.1038196616679736</td>\n        <td>1.001045023077593</td>\n        <td>1.418893887271765</td>\n    </tr>\n    <tr>\n        <td>24</td>\n        <td>lpbound-recompute</td>\n        <td>5.2932869210561835</td>\n        <td>2.835773505027342</td>\n        <td>11.320197044334975</td>\n    </tr>\n    <tr>\n        <td>24</td>\n        <td>lpbound-recompute-filter-row</td>\n        <td>6.312708788109743</td>\n        <td>3.341160812630033</td>\n        <td>13.212320328542095</td>\n    </tr>\n    <tr>\n        <td>24</td>\n        <td>lpbound-recompute-partial-2-filter-row</td>\n        <td>2.744175377121721</td>\n        <td>1.6743200147189599</td>\n        <td>4.233157894736842</td>\n    </tr>\n    <tr>\n        <td>24</td>\n        <td>lpbound-recompute-partial-5-filter-row</td>\n        <td>1.1555139069787412</td>\n        <td>1.0286886404099589</td>\n        <td>1.559400901555911</td>\n    </tr>\n    <tr>\n        <td>24</td>\n        <td>nothing</td>\n        <td>1.0</td>\n        <td>1.0</td>\n        <td>1.0</td>\n    </tr>\n    <tr>\n        <td>26</td>\n        <td>lpbound-fast-no-recompute</td>\n        <td>1.0011715212292747</td>\n        <td>1.0</td>\n        <td>1.0091184914524338</td>\n    </tr>\n    <tr>\n        <td>26</td>\n        <td>lpbound-fast-no-recompute-filter-row</td>\n        <td>1.0278965408819085</td>\n        <td>1.000387883802942</td>\n        <td>1.1564690707195333</td>\n    </tr>\n    <tr>\n        <td>26</td>\n        <td>lpbound-recompute</td>\n        <td>4.6705329285374155</td>\n        <td>2.6113858044483447</td>\n        <td>7.605903970838686</td>\n    </tr>\n    <tr>\n        <td>26</td>\n        <td>lpbound-recompute-filter-row</td>\n        <td>5.453817963225756</td>\n        <td>3.2963148365108106</td>\n        <td>8.998621372264838</td>\n    </tr>\n    <tr>\n        <td>26</td>\n        <td>lpbound-recompute-partial-2-filter-row</td>\n        <td>2.3410643343758117</td>\n        <td>1.5446900048912446</td>\n        <td>3.1712822812721906</td>\n    </tr>\n    <tr>\n        <td>26</td>\n        <td>lpbound-recompute-partial-5-filter-row</td>\n        <td>1.0858663543135685</td>\n        <td>1.0303179554534012</td>\n        <td>1.1957900027061508</td>\n    </tr>\n    <tr>\n        <td>26</td>\n        <td>nothing</td>\n        <td>1.0</td>\n        <td>1.0</td>\n        <td>1.0</td>\n    </tr>\n    <tr>\n        <td>28</td>\n        <td>lpbound-fast-no-recompute</td>\n        <td>1.0027099997904305</td>\n        <td>1.0</td>\n        <td>1.0226215778867598</td>\n    </tr>\n    <tr>\n        <td>28</td>\n        <td>lpbound-fast-no-recompute-filter-row</td>\n        <td>1.1073437252782965</td>\n        <td>1.0011160395970848</td>\n        <td>1.535526092481673</td>\n    </tr>\n    <tr>\n        <td>28</td>\n        <td>lpbound-recompute</td>\n        <td>5.695784588074259</td>\n        <td>3.009715216653805</td>\n        <td>13.400189160197925</td>\n    </tr>\n    <tr>\n        <td>28</td>\n        <td>lpbound-recompute-filter-row</td>\n        <td>6.560150172481544</td>\n        <td>3.337741910144412</td>\n        <td>15.800337281888778</td>\n    </tr>\n    <tr>\n        <td>28</td>\n        <td>lpbound-recompute-partial-2-filter-row</td>\n        <td>3.0844989669628022</td>\n        <td>1.8077862694561568</td>\n        <td>5.0797654651345825</td>\n    </tr>\n    <tr>\n        <td>28</td>\n        <td>lpbound-recompute-partial-5-filter-row</td>\n        <td>1.1651374892224344</td>\n        <td>1.037356890459364</td>\n        <td>1.592761754688404</td>\n    </tr>\n    <tr>\n        <td>28</td>\n        <td>nothing</td>\n        <td>1.0</td>\n        <td>1.0</td>\n        <td>1.0</td>\n    </tr>\n    <tr>\n        <td>30</td>\n        <td>lpbound-fast-no-recompute</td>\n        <td>1.0004541866084735</td>\n        <td>1.0</td>\n        <td>1.0029487029761144</td>\n    </tr>\n    <tr>\n        <td>30</td>\n        <td>lpbound-fast-no-recompute-filter-row</td>\n        <td>1.0247071379528396</td>\n        <td>1.0006439822865119</td>\n        <td>1.0919030092380624</td>\n    </tr>\n    <tr>\n        <td>30</td>\n        <td>lpbound-recompute</td>\n        <td>7.5128555837344155</td>\n        <td>3.552376594309253</td>\n        <td>11.388648208525009</td>\n    </tr>\n    <tr>\n        <td>30</td>\n        <td>lpbound-recompute-filter-row</td>\n        <td>8.5676175155142</td>\n        <td>4.367369641912358</td>\n        <td>12.38267210046805</td>\n    </tr>\n    <tr>\n        <td>30</td>\n        <td>lpbound-recompute-partial-2-filter-row</td>\n        <td>3.485855189173678</td>\n        <td>2.6385171775090694</td>\n        <td>4.926133146686045</td>\n    </tr>\n    <tr>\n        <td>30</td>\n        <td>lpbound-recompute-partial-5-filter-row</td>\n        <td>1.100391762196018</td>\n        <td>1.0486366947162524</td>\n        <td>1.2035669925747563</td>\n    </tr>\n    <tr>\n        <td>30</td>\n        <td>nothing</td>\n        <td>1.0</td>\n        <td>1.0</td>\n        <td>1.0</td>\n    </tr>\n</table>"
     },
     "metadata": {},
     "output_type": "execute_result",
     "execution_count": 25
    }
   ]
  },
  {
   "cell_type": "code",
   "execution_count": 12,
   "outputs": [
    {
     "data": {
      "text/plain": "<IPython.core.display.HTML object>",
      "text/html": "<table>\n<tbody>\n<tr><td>Sun  </td><td style=\"text-align: right;\">696000</td><td style=\"text-align: right;\">   1.9891e+09</td></tr>\n<tr><td>Earth</td><td style=\"text-align: right;\">  6371</td><td style=\"text-align: right;\">5973.6       </td></tr>\n<tr><td>Moon </td><td style=\"text-align: right;\">  1737</td><td style=\"text-align: right;\">  73.5       </td></tr>\n<tr><td>Mars </td><td style=\"text-align: right;\">  3390</td><td style=\"text-align: right;\"> 641.85      </td></tr>\n</tbody>\n</table>"
     },
     "metadata": {},
     "output_type": "display_data"
    }
   ],
   "source": [
    "table = [[\"Sun\",696000,1989100000],\n",
    "         [\"Earth\",6371,5973.6],\n",
    "         [\"Moon\",1737,73.5],\n",
    "         [\"Mars\",3390,641.85]]\n",
    "display(HTML(tabulate.tabulate(table, tablefmt='html')))"
   ],
   "metadata": {
    "collapsed": false,
    "pycharm": {
     "name": "#%%\n",
     "is_executing": false
    }
   }
  },
  {
   "cell_type": "code",
   "execution_count": null,
   "outputs": [],
   "source": [
    "\n"
   ],
   "metadata": {
    "collapsed": false,
    "pycharm": {
     "name": "#%%\n"
    }
   }
  }
 ],
 "metadata": {
  "kernelspec": {
   "display_name": "Python 3",
   "language": "python",
   "name": "python3"
  },
  "language_info": {
   "codemirror_mode": {
    "name": "ipython",
    "version": 2
   },
   "file_extension": ".py",
   "mimetype": "text/x-python",
   "name": "python",
   "nbconvert_exporter": "python",
   "pygments_lexer": "ipython2",
   "version": "2.7.6"
  },
  "pycharm": {
   "stem_cell": {
    "cell_type": "raw",
    "source": [],
    "metadata": {
     "collapsed": false
    }
   }
  }
 },
 "nbformat": 4,
 "nbformat_minor": 0
}