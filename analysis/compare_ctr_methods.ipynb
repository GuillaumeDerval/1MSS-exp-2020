{
 "cells": [
  {
   "cell_type": "code",
   "source": [
    "%load_ext sql\n",
    "%sql sqlite:///../results/synthetic_small.db\n",
    "import yaml\n",
    "from IPython.display import HTML, display\n",
    "import tabulate"
   ],
   "metadata": {
    "collapsed": false,
    "pycharm": {
     "name": "#%% \n",
     "is_executing": false
    }
   },
   "execution_count": 1,
   "outputs": []
  },
  {
   "cell_type": "markdown",
   "source": [
    "Here is the list of all the various \"powers\" for the constraint presented in the paper, along with branching we\n",
    "try on these methods."
   ],
   "metadata": {
    "collapsed": false,
    "pycharm": {
     "name": "#%% md\n",
     "is_executing": false
    }
   }
  },
  {
   "cell_type": "code",
   "execution_count": 2,
   "outputs": [
    {
     "name": "stdout",
     "text": [
      "['original', 'static']\n",
      "['original-lb', 'static']\n",
      "['original-lb-fast', 'static']\n",
      "['fixed-bigm', 'static']\n",
      "['fixed-bigm', 'dynamic']\n",
      "['recompute-bigm', 'static']\n",
      "['recompute-bigm', 'dynamic']\n",
      "['lagrange', 'static']\n",
      "['lagrange', 'dynamic']\n"
     ],
     "output_type": "stream"
    }
   ],
   "source": [
    "config = yaml.load(open(\"../config.yaml\").read(), Loader=yaml.SafeLoader)\n",
    "methods = config[\"methods\"]\n",
    "print(\"\\n\".join([str(x) for x in methods]))"
   ],
   "metadata": {
    "collapsed": false,
    "pycharm": {
     "name": "#%%\n",
     "is_executing": false
    }
   }
  },
  {
   "cell_type": "markdown",
   "source": [
    "Let us focus on the static branchings. We compare against nothing/nothing (which is the model with only the base constraint\n",
    "from Branders et al.)."
   ],
   "metadata": {
    "collapsed": false,
    "pycharm": {
     "name": "#%% md\n"
    }
   }
  },
  {
   "cell_type": "code",
   "source": [
    "%%sql\n",
    "SELECT\n",
    "       runs.size,\n",
    "       -- runs.mean, runs.sigma,\n",
    "       runs.method, runs.branching,\n",
    "       ROUND(AVG(CAST(nns.n_nodes as FLOAT)/runs.n_nodes), 2)as n_nodes_ratio_mean,\n",
    "       ROUND(AVG(CAST(nns.runtime as FLOAT)/runs.runtime),2) as n_runtime_ratio_mean\n",
    "       -- MIN(CAST(nns.n_nodes as FLOAT)/runs.n_nodes) as n_nodes_ratio_min,\n",
    "       -- MAX(CAST(nns.n_nodes as FLOAT)/runs.n_nodes) as n_nodes_ratio_max\n",
    "FROM runs\n",
    "LEFT JOIN (SELECT * FROM runs WHERE method = \"original\" AND branching = \"static\") as nns\n",
    "ON nns.size = runs.size AND nns.mean = runs.mean AND nns.sigma = runs.sigma AND nns.dataset_id = runs.dataset_id\n",
    "WHERE runs.mean = 0.0 AND runs.branching = \"static\"\n",
    "GROUP BY \n",
    "    runs.method, runs.branching, runs.size\n",
    "ORDER BY runs.size, runs.method ASC"
   ],
   "metadata": {
    "collapsed": false,
    "pycharm": {
     "name": "#%%\n",
     "is_executing": false
    }
   },
   "execution_count": 11,
   "outputs": [
    {
     "name": "stdout",
     "text": [
      " * sqlite:///../results/synthetic_small.db\n",
      "Done.\n"
     ],
     "output_type": "stream"
    },
    {
     "data": {
      "text/plain": "[(10, 'fixed-bigm', 'dynamic', 1.98, 1.07),\n (10, 'fixed-bigm', 'static', 2.39, 1.43),\n (10, 'lagrange', 'dynamic', 4.74, 0.17),\n (10, 'lagrange', 'static', 6.0, 0.21),\n (10, 'original', 'static', 1.0, 1.0),\n (10, 'original-lb', 'static', 2.18, 1.35),\n (10, 'original-lb-fast', 'static', 0.9, 1.28),\n (10, 'recompute-bigm', 'dynamic', 4.83, 0.97),\n (10, 'recompute-bigm', 'static', 6.36, 1.32),\n (14, 'fixed-bigm', 'dynamic', 1.78, 0.99),\n (14, 'fixed-bigm', 'static', 2.2, 1.23),\n (14, 'lagrange', 'dynamic', 13.13, 0.08),\n (14, 'lagrange', 'static', 14.66, 0.07),\n (14, 'original', 'static', 1.0, 1.0),\n (14, 'original-lb', 'static', 1.44, 1.1),\n (14, 'original-lb-fast', 'static', 0.59, 1.12),\n (14, 'recompute-bigm', 'dynamic', 10.39, 1.0),\n (14, 'recompute-bigm', 'static', 11.7, 1.23),\n (18, 'fixed-bigm', 'dynamic', 1.61, 1.07),\n (18, 'fixed-bigm', 'static', 2.27, 1.37),\n (18, 'lagrange', 'dynamic', 33.76, 0.12),\n (18, 'lagrange', 'static', 46.7, 0.14),\n (18, 'original', 'static', 1.0, 1.0),\n (18, 'original-lb', 'static', 1.36, 1.05),\n (18, 'original-lb-fast', 'static', 0.57, 1.05),\n (18, 'recompute-bigm', 'dynamic', 19.89, 1.61),\n (18, 'recompute-bigm', 'static', 25.17, 1.92),\n (22, 'fixed-bigm', 'dynamic', 1.3, 0.81),\n (22, 'fixed-bigm', 'static', 2.03, 1.11),\n (22, 'lagrange', 'dynamic', 52.95, 0.17),\n (22, 'lagrange', 'static', 82.56, 0.22),\n (22, 'original', 'static', 1.0, 1.0),\n (22, 'original-lb', 'static', 1.26, 0.85),\n (22, 'original-lb-fast', 'static', 0.51, 0.91),\n (22, 'recompute-bigm', 'dynamic', 25.62, 2.18),\n (22, 'recompute-bigm', 'static', 34.03, 2.53),\n (26, 'fixed-bigm', 'dynamic', 1.29, 0.87),\n (26, 'fixed-bigm', 'static', 2.03, 1.27),\n (26, 'lagrange', 'dynamic', 84.18, 0.21),\n (26, 'lagrange', 'static', 138.75, 0.33),\n (26, 'original', 'static', 1.0, 1.0),\n (26, 'original-lb', 'static', 1.19, 0.92),\n (26, 'original-lb-fast', 'static', 0.46, 1.01),\n (26, 'recompute-bigm', 'dynamic', 40.2, 3.24),\n (26, 'recompute-bigm', 'static', 51.58, 4.1),\n (30, 'fixed-bigm', 'dynamic', 1.61, 1.16),\n (30, 'fixed-bigm', 'static', 2.5, 1.77),\n (30, 'lagrange', 'dynamic', 168.45, 0.35),\n (30, 'lagrange', 'static', 288.56, 0.58),\n (30, 'original', 'static', 1.0, 1.0),\n (30, 'original-lb', 'static', 1.2, 0.92),\n (30, 'original-lb-fast', 'static', 0.48, 1.1),\n (30, 'recompute-bigm', 'dynamic', 71.55, 7.6),\n (30, 'recompute-bigm', 'static', 96.21, 10.18)]",
      "text/html": "<table>\n    <tr>\n        <th>size</th>\n        <th>method</th>\n        <th>branching</th>\n        <th>n_nodes_ratio_mean</th>\n        <th>n_runtime_ratio_mean</th>\n    </tr>\n    <tr>\n        <td>10</td>\n        <td>fixed-bigm</td>\n        <td>dynamic</td>\n        <td>1.98</td>\n        <td>1.07</td>\n    </tr>\n    <tr>\n        <td>10</td>\n        <td>fixed-bigm</td>\n        <td>static</td>\n        <td>2.39</td>\n        <td>1.43</td>\n    </tr>\n    <tr>\n        <td>10</td>\n        <td>lagrange</td>\n        <td>dynamic</td>\n        <td>4.74</td>\n        <td>0.17</td>\n    </tr>\n    <tr>\n        <td>10</td>\n        <td>lagrange</td>\n        <td>static</td>\n        <td>6.0</td>\n        <td>0.21</td>\n    </tr>\n    <tr>\n        <td>10</td>\n        <td>original</td>\n        <td>static</td>\n        <td>1.0</td>\n        <td>1.0</td>\n    </tr>\n    <tr>\n        <td>10</td>\n        <td>original-lb</td>\n        <td>static</td>\n        <td>2.18</td>\n        <td>1.35</td>\n    </tr>\n    <tr>\n        <td>10</td>\n        <td>original-lb-fast</td>\n        <td>static</td>\n        <td>0.9</td>\n        <td>1.28</td>\n    </tr>\n    <tr>\n        <td>10</td>\n        <td>recompute-bigm</td>\n        <td>dynamic</td>\n        <td>4.83</td>\n        <td>0.97</td>\n    </tr>\n    <tr>\n        <td>10</td>\n        <td>recompute-bigm</td>\n        <td>static</td>\n        <td>6.36</td>\n        <td>1.32</td>\n    </tr>\n    <tr>\n        <td>14</td>\n        <td>fixed-bigm</td>\n        <td>dynamic</td>\n        <td>1.78</td>\n        <td>0.99</td>\n    </tr>\n    <tr>\n        <td>14</td>\n        <td>fixed-bigm</td>\n        <td>static</td>\n        <td>2.2</td>\n        <td>1.23</td>\n    </tr>\n    <tr>\n        <td>14</td>\n        <td>lagrange</td>\n        <td>dynamic</td>\n        <td>13.13</td>\n        <td>0.08</td>\n    </tr>\n    <tr>\n        <td>14</td>\n        <td>lagrange</td>\n        <td>static</td>\n        <td>14.66</td>\n        <td>0.07</td>\n    </tr>\n    <tr>\n        <td>14</td>\n        <td>original</td>\n        <td>static</td>\n        <td>1.0</td>\n        <td>1.0</td>\n    </tr>\n    <tr>\n        <td>14</td>\n        <td>original-lb</td>\n        <td>static</td>\n        <td>1.44</td>\n        <td>1.1</td>\n    </tr>\n    <tr>\n        <td>14</td>\n        <td>original-lb-fast</td>\n        <td>static</td>\n        <td>0.59</td>\n        <td>1.12</td>\n    </tr>\n    <tr>\n        <td>14</td>\n        <td>recompute-bigm</td>\n        <td>dynamic</td>\n        <td>10.39</td>\n        <td>1.0</td>\n    </tr>\n    <tr>\n        <td>14</td>\n        <td>recompute-bigm</td>\n        <td>static</td>\n        <td>11.7</td>\n        <td>1.23</td>\n    </tr>\n    <tr>\n        <td>18</td>\n        <td>fixed-bigm</td>\n        <td>dynamic</td>\n        <td>1.61</td>\n        <td>1.07</td>\n    </tr>\n    <tr>\n        <td>18</td>\n        <td>fixed-bigm</td>\n        <td>static</td>\n        <td>2.27</td>\n        <td>1.37</td>\n    </tr>\n    <tr>\n        <td>18</td>\n        <td>lagrange</td>\n        <td>dynamic</td>\n        <td>33.76</td>\n        <td>0.12</td>\n    </tr>\n    <tr>\n        <td>18</td>\n        <td>lagrange</td>\n        <td>static</td>\n        <td>46.7</td>\n        <td>0.14</td>\n    </tr>\n    <tr>\n        <td>18</td>\n        <td>original</td>\n        <td>static</td>\n        <td>1.0</td>\n        <td>1.0</td>\n    </tr>\n    <tr>\n        <td>18</td>\n        <td>original-lb</td>\n        <td>static</td>\n        <td>1.36</td>\n        <td>1.05</td>\n    </tr>\n    <tr>\n        <td>18</td>\n        <td>original-lb-fast</td>\n        <td>static</td>\n        <td>0.57</td>\n        <td>1.05</td>\n    </tr>\n    <tr>\n        <td>18</td>\n        <td>recompute-bigm</td>\n        <td>dynamic</td>\n        <td>19.89</td>\n        <td>1.61</td>\n    </tr>\n    <tr>\n        <td>18</td>\n        <td>recompute-bigm</td>\n        <td>static</td>\n        <td>25.17</td>\n        <td>1.92</td>\n    </tr>\n    <tr>\n        <td>22</td>\n        <td>fixed-bigm</td>\n        <td>dynamic</td>\n        <td>1.3</td>\n        <td>0.81</td>\n    </tr>\n    <tr>\n        <td>22</td>\n        <td>fixed-bigm</td>\n        <td>static</td>\n        <td>2.03</td>\n        <td>1.11</td>\n    </tr>\n    <tr>\n        <td>22</td>\n        <td>lagrange</td>\n        <td>dynamic</td>\n        <td>52.95</td>\n        <td>0.17</td>\n    </tr>\n    <tr>\n        <td>22</td>\n        <td>lagrange</td>\n        <td>static</td>\n        <td>82.56</td>\n        <td>0.22</td>\n    </tr>\n    <tr>\n        <td>22</td>\n        <td>original</td>\n        <td>static</td>\n        <td>1.0</td>\n        <td>1.0</td>\n    </tr>\n    <tr>\n        <td>22</td>\n        <td>original-lb</td>\n        <td>static</td>\n        <td>1.26</td>\n        <td>0.85</td>\n    </tr>\n    <tr>\n        <td>22</td>\n        <td>original-lb-fast</td>\n        <td>static</td>\n        <td>0.51</td>\n        <td>0.91</td>\n    </tr>\n    <tr>\n        <td>22</td>\n        <td>recompute-bigm</td>\n        <td>dynamic</td>\n        <td>25.62</td>\n        <td>2.18</td>\n    </tr>\n    <tr>\n        <td>22</td>\n        <td>recompute-bigm</td>\n        <td>static</td>\n        <td>34.03</td>\n        <td>2.53</td>\n    </tr>\n    <tr>\n        <td>26</td>\n        <td>fixed-bigm</td>\n        <td>dynamic</td>\n        <td>1.29</td>\n        <td>0.87</td>\n    </tr>\n    <tr>\n        <td>26</td>\n        <td>fixed-bigm</td>\n        <td>static</td>\n        <td>2.03</td>\n        <td>1.27</td>\n    </tr>\n    <tr>\n        <td>26</td>\n        <td>lagrange</td>\n        <td>dynamic</td>\n        <td>84.18</td>\n        <td>0.21</td>\n    </tr>\n    <tr>\n        <td>26</td>\n        <td>lagrange</td>\n        <td>static</td>\n        <td>138.75</td>\n        <td>0.33</td>\n    </tr>\n    <tr>\n        <td>26</td>\n        <td>original</td>\n        <td>static</td>\n        <td>1.0</td>\n        <td>1.0</td>\n    </tr>\n    <tr>\n        <td>26</td>\n        <td>original-lb</td>\n        <td>static</td>\n        <td>1.19</td>\n        <td>0.92</td>\n    </tr>\n    <tr>\n        <td>26</td>\n        <td>original-lb-fast</td>\n        <td>static</td>\n        <td>0.46</td>\n        <td>1.01</td>\n    </tr>\n    <tr>\n        <td>26</td>\n        <td>recompute-bigm</td>\n        <td>dynamic</td>\n        <td>40.2</td>\n        <td>3.24</td>\n    </tr>\n    <tr>\n        <td>26</td>\n        <td>recompute-bigm</td>\n        <td>static</td>\n        <td>51.58</td>\n        <td>4.1</td>\n    </tr>\n    <tr>\n        <td>30</td>\n        <td>fixed-bigm</td>\n        <td>dynamic</td>\n        <td>1.61</td>\n        <td>1.16</td>\n    </tr>\n    <tr>\n        <td>30</td>\n        <td>fixed-bigm</td>\n        <td>static</td>\n        <td>2.5</td>\n        <td>1.77</td>\n    </tr>\n    <tr>\n        <td>30</td>\n        <td>lagrange</td>\n        <td>dynamic</td>\n        <td>168.45</td>\n        <td>0.35</td>\n    </tr>\n    <tr>\n        <td>30</td>\n        <td>lagrange</td>\n        <td>static</td>\n        <td>288.56</td>\n        <td>0.58</td>\n    </tr>\n    <tr>\n        <td>30</td>\n        <td>original</td>\n        <td>static</td>\n        <td>1.0</td>\n        <td>1.0</td>\n    </tr>\n    <tr>\n        <td>30</td>\n        <td>original-lb</td>\n        <td>static</td>\n        <td>1.2</td>\n        <td>0.92</td>\n    </tr>\n    <tr>\n        <td>30</td>\n        <td>original-lb-fast</td>\n        <td>static</td>\n        <td>0.48</td>\n        <td>1.1</td>\n    </tr>\n    <tr>\n        <td>30</td>\n        <td>recompute-bigm</td>\n        <td>dynamic</td>\n        <td>71.55</td>\n        <td>7.6</td>\n    </tr>\n    <tr>\n        <td>30</td>\n        <td>recompute-bigm</td>\n        <td>static</td>\n        <td>96.21</td>\n        <td>10.18</td>\n    </tr>\n</table>"
     },
     "metadata": {},
     "output_type": "execute_result",
     "execution_count": 11
    }
   ]
  },
  {
   "cell_type": "code",
   "execution_count": 9,
   "outputs": [
    {
     "name": "stdout",
     "text": [
      " * sqlite:///../results/synthetic_small.db\n",
      "Done.\n"
     ],
     "output_type": "stream"
    },
    {
     "data": {
      "text/plain": "[(10, 'fixed-bigm', 9.71, 2.01),\n (10, 'lagrange', 12.59, 0.28),\n (10, 'original', 1.0, 1.0),\n (10, 'original-lb', 6.1, 1.76),\n (10, 'original-lb-fast', 2.96, 1.84),\n (10, 'recompute-bigm', 12.78, 1.64),\n (14, 'fixed-bigm', 13.75, 2.06),\n (14, 'lagrange', 39.58, 0.14),\n (14, 'original', 1.0, 1.0),\n (14, 'original-lb', 4.1, 1.5),\n (14, 'original-lb-fast', 2.18, 1.53),\n (14, 'recompute-bigm', 35.35, 1.89),\n (18, 'fixed-bigm', 27.94, 3.37),\n (18, 'lagrange', 206.76, 0.22),\n (18, 'original', 1.0, 1.0),\n (18, 'original-lb', 5.4, 1.77),\n (18, 'original-lb-fast', 3.0, 2.12),\n (18, 'recompute-bigm', 117.94, 3.38),\n (22, 'fixed-bigm', 38.67, 4.99),\n (22, 'lagrange', 1025.43, 0.54),\n (22, 'original', 1.0, 1.0),\n (22, 'original-lb', 4.75, 1.63),\n (22, 'original-lb-fast', 2.75, 1.95),\n (22, 'recompute-bigm', 282.13, 6.38),\n (26, 'fixed-bigm', 50.39, 6.88),\n (26, 'lagrange', 5347.34, 2.26),\n (26, 'original', 1.0, 1.0),\n (26, 'original-lb', 4.4, 1.79),\n (26, 'original-lb-fast', 2.49, 2.16),\n (26, 'recompute-bigm', 676.64, 13.1),\n (30, 'fixed-bigm', 104.32, 17.03),\n (30, 'lagrange', 35543.35, 14.13),\n (30, 'original', 1.0, 1.0),\n (30, 'original-lb', 5.41, 2.68),\n (30, 'original-lb-fast', 3.09, 3.57),\n (30, 'recompute-bigm', 2033.6, 43.39)]",
      "text/html": "<table>\n    <tr>\n        <th>size</th>\n        <th>method</th>\n        <th>n_nodes_ratio_mean</th>\n        <th>n_runtime_ratio_mean</th>\n    </tr>\n    <tr>\n        <td>10</td>\n        <td>fixed-bigm</td>\n        <td>9.71</td>\n        <td>2.01</td>\n    </tr>\n    <tr>\n        <td>10</td>\n        <td>lagrange</td>\n        <td>12.59</td>\n        <td>0.28</td>\n    </tr>\n    <tr>\n        <td>10</td>\n        <td>original</td>\n        <td>1.0</td>\n        <td>1.0</td>\n    </tr>\n    <tr>\n        <td>10</td>\n        <td>original-lb</td>\n        <td>6.1</td>\n        <td>1.76</td>\n    </tr>\n    <tr>\n        <td>10</td>\n        <td>original-lb-fast</td>\n        <td>2.96</td>\n        <td>1.84</td>\n    </tr>\n    <tr>\n        <td>10</td>\n        <td>recompute-bigm</td>\n        <td>12.78</td>\n        <td>1.64</td>\n    </tr>\n    <tr>\n        <td>14</td>\n        <td>fixed-bigm</td>\n        <td>13.75</td>\n        <td>2.06</td>\n    </tr>\n    <tr>\n        <td>14</td>\n        <td>lagrange</td>\n        <td>39.58</td>\n        <td>0.14</td>\n    </tr>\n    <tr>\n        <td>14</td>\n        <td>original</td>\n        <td>1.0</td>\n        <td>1.0</td>\n    </tr>\n    <tr>\n        <td>14</td>\n        <td>original-lb</td>\n        <td>4.1</td>\n        <td>1.5</td>\n    </tr>\n    <tr>\n        <td>14</td>\n        <td>original-lb-fast</td>\n        <td>2.18</td>\n        <td>1.53</td>\n    </tr>\n    <tr>\n        <td>14</td>\n        <td>recompute-bigm</td>\n        <td>35.35</td>\n        <td>1.89</td>\n    </tr>\n    <tr>\n        <td>18</td>\n        <td>fixed-bigm</td>\n        <td>27.94</td>\n        <td>3.37</td>\n    </tr>\n    <tr>\n        <td>18</td>\n        <td>lagrange</td>\n        <td>206.76</td>\n        <td>0.22</td>\n    </tr>\n    <tr>\n        <td>18</td>\n        <td>original</td>\n        <td>1.0</td>\n        <td>1.0</td>\n    </tr>\n    <tr>\n        <td>18</td>\n        <td>original-lb</td>\n        <td>5.4</td>\n        <td>1.77</td>\n    </tr>\n    <tr>\n        <td>18</td>\n        <td>original-lb-fast</td>\n        <td>3.0</td>\n        <td>2.12</td>\n    </tr>\n    <tr>\n        <td>18</td>\n        <td>recompute-bigm</td>\n        <td>117.94</td>\n        <td>3.38</td>\n    </tr>\n    <tr>\n        <td>22</td>\n        <td>fixed-bigm</td>\n        <td>38.67</td>\n        <td>4.99</td>\n    </tr>\n    <tr>\n        <td>22</td>\n        <td>lagrange</td>\n        <td>1025.43</td>\n        <td>0.54</td>\n    </tr>\n    <tr>\n        <td>22</td>\n        <td>original</td>\n        <td>1.0</td>\n        <td>1.0</td>\n    </tr>\n    <tr>\n        <td>22</td>\n        <td>original-lb</td>\n        <td>4.75</td>\n        <td>1.63</td>\n    </tr>\n    <tr>\n        <td>22</td>\n        <td>original-lb-fast</td>\n        <td>2.75</td>\n        <td>1.95</td>\n    </tr>\n    <tr>\n        <td>22</td>\n        <td>recompute-bigm</td>\n        <td>282.13</td>\n        <td>6.38</td>\n    </tr>\n    <tr>\n        <td>26</td>\n        <td>fixed-bigm</td>\n        <td>50.39</td>\n        <td>6.88</td>\n    </tr>\n    <tr>\n        <td>26</td>\n        <td>lagrange</td>\n        <td>5347.34</td>\n        <td>2.26</td>\n    </tr>\n    <tr>\n        <td>26</td>\n        <td>original</td>\n        <td>1.0</td>\n        <td>1.0</td>\n    </tr>\n    <tr>\n        <td>26</td>\n        <td>original-lb</td>\n        <td>4.4</td>\n        <td>1.79</td>\n    </tr>\n    <tr>\n        <td>26</td>\n        <td>original-lb-fast</td>\n        <td>2.49</td>\n        <td>2.16</td>\n    </tr>\n    <tr>\n        <td>26</td>\n        <td>recompute-bigm</td>\n        <td>676.64</td>\n        <td>13.1</td>\n    </tr>\n    <tr>\n        <td>30</td>\n        <td>fixed-bigm</td>\n        <td>104.32</td>\n        <td>17.03</td>\n    </tr>\n    <tr>\n        <td>30</td>\n        <td>lagrange</td>\n        <td>35543.35</td>\n        <td>14.13</td>\n    </tr>\n    <tr>\n        <td>30</td>\n        <td>original</td>\n        <td>1.0</td>\n        <td>1.0</td>\n    </tr>\n    <tr>\n        <td>30</td>\n        <td>original-lb</td>\n        <td>5.41</td>\n        <td>2.68</td>\n    </tr>\n    <tr>\n        <td>30</td>\n        <td>original-lb-fast</td>\n        <td>3.09</td>\n        <td>3.57</td>\n    </tr>\n    <tr>\n        <td>30</td>\n        <td>recompute-bigm</td>\n        <td>2033.6</td>\n        <td>43.39</td>\n    </tr>\n</table>"
     },
     "metadata": {},
     "output_type": "execute_result",
     "execution_count": 9
    }
   ],
   "source": [
    "%%sql\n",
    "SELECT\n",
    "       runs.size,\n",
    "       -- runs.mean, runs.sigma,\n",
    "       runs.method,\n",
    "       ROUND(AVG(CAST(nns.n_nodes as FLOAT)/runs.n_nodes), 2)as n_nodes_ratio_mean,\n",
    "       ROUND(AVG(CAST(nns.runtime as FLOAT)/runs.runtime),2) as n_runtime_ratio_mean\n",
    "       -- MIN(CAST(nns.n_nodes as FLOAT)/runs.n_nodes) as n_nodes_ratio_min,\n",
    "       -- MAX(CAST(nns.n_nodes as FLOAT)/runs.n_nodes) as n_nodes_ratio_max\n",
    "FROM runs\n",
    "LEFT JOIN (SELECT * FROM runs WHERE method = \"original\" AND branching = \"static\") as nns\n",
    "ON nns.size = runs.size AND nns.mean = runs.mean AND nns.sigma = runs.sigma AND nns.dataset_id = runs.dataset_id\n",
    "WHERE runs.branching = \"static\" and runs.mean = 0.2\n",
    "GROUP BY \n",
    "    -- runs.n_rows, runs.n_cols, runs.p_sol,\n",
    "    runs.method, runs.size\n",
    "ORDER BY runs.size, runs.method ASC"
   ],
   "metadata": {
    "collapsed": false,
    "pycharm": {
     "name": "#%%\n",
     "is_executing": false
    }
   }
  },
  {
   "cell_type": "markdown",
   "source": [
    "The results above show that the new bounds introduced in our work actually help cut the search in a superlinear way\n",
    "(mainly recompute-bigm).\n",
    "\n",
    "The dynamic branching does not reduce the size of the search tree, but rather increases it. See for example these ratios\n",
    "between tree size in the N(0,1) case, between static and dynamic branching (lower (<1) is better):"
   ],
   "metadata": {
    "collapsed": false,
    "pycharm": {
     "name": "#%% md\n"
    }
   }
  },
  {
   "cell_type": "code",
   "execution_count": 17,
   "outputs": [
    {
     "name": "stdout",
     "text": [
      " * sqlite:///../results/synthetic_small.db\n",
      "Done.\n"
     ],
     "output_type": "stream"
    },
    {
     "data": {
      "text/plain": "[(10, 'fixed-bigm', 1.32),\n (10, 'lagrange', 1.47),\n (10, 'recompute-bigm', 1.46),\n (14, 'fixed-bigm', 1.28),\n (14, 'lagrange', 1.22),\n (14, 'recompute-bigm', 1.2),\n (18, 'fixed-bigm', 1.42),\n (18, 'lagrange', 1.53),\n (18, 'recompute-bigm', 1.36),\n (22, 'fixed-bigm', 1.61),\n (22, 'lagrange', 1.65),\n (22, 'recompute-bigm', 1.41),\n (26, 'fixed-bigm', 1.64),\n (26, 'lagrange', 1.81),\n (26, 'recompute-bigm', 1.46),\n (30, 'fixed-bigm', 1.59),\n (30, 'lagrange', 1.84),\n (30, 'recompute-bigm', 1.45)]",
      "text/html": "<table>\n    <tr>\n        <th>size</th>\n        <th>method</th>\n        <th>n_nodes_ratio_mean</th>\n    </tr>\n    <tr>\n        <td>10</td>\n        <td>fixed-bigm</td>\n        <td>1.32</td>\n    </tr>\n    <tr>\n        <td>10</td>\n        <td>lagrange</td>\n        <td>1.47</td>\n    </tr>\n    <tr>\n        <td>10</td>\n        <td>recompute-bigm</td>\n        <td>1.46</td>\n    </tr>\n    <tr>\n        <td>14</td>\n        <td>fixed-bigm</td>\n        <td>1.28</td>\n    </tr>\n    <tr>\n        <td>14</td>\n        <td>lagrange</td>\n        <td>1.22</td>\n    </tr>\n    <tr>\n        <td>14</td>\n        <td>recompute-bigm</td>\n        <td>1.2</td>\n    </tr>\n    <tr>\n        <td>18</td>\n        <td>fixed-bigm</td>\n        <td>1.42</td>\n    </tr>\n    <tr>\n        <td>18</td>\n        <td>lagrange</td>\n        <td>1.53</td>\n    </tr>\n    <tr>\n        <td>18</td>\n        <td>recompute-bigm</td>\n        <td>1.36</td>\n    </tr>\n    <tr>\n        <td>22</td>\n        <td>fixed-bigm</td>\n        <td>1.61</td>\n    </tr>\n    <tr>\n        <td>22</td>\n        <td>lagrange</td>\n        <td>1.65</td>\n    </tr>\n    <tr>\n        <td>22</td>\n        <td>recompute-bigm</td>\n        <td>1.41</td>\n    </tr>\n    <tr>\n        <td>26</td>\n        <td>fixed-bigm</td>\n        <td>1.64</td>\n    </tr>\n    <tr>\n        <td>26</td>\n        <td>lagrange</td>\n        <td>1.81</td>\n    </tr>\n    <tr>\n        <td>26</td>\n        <td>recompute-bigm</td>\n        <td>1.46</td>\n    </tr>\n    <tr>\n        <td>30</td>\n        <td>fixed-bigm</td>\n        <td>1.59</td>\n    </tr>\n    <tr>\n        <td>30</td>\n        <td>lagrange</td>\n        <td>1.84</td>\n    </tr>\n    <tr>\n        <td>30</td>\n        <td>recompute-bigm</td>\n        <td>1.45</td>\n    </tr>\n</table>"
     },
     "metadata": {},
     "output_type": "execute_result",
     "execution_count": 17
    }
   ],
   "source": [
    "%%sql\n",
    "SELECT\n",
    "       dynamic.size, dynamic.method,\n",
    "       ROUND(AVG(CAST(dynamic.n_nodes as FLOAT)/static.n_nodes), 2)as n_nodes_ratio_mean\n",
    "FROM runs as dynamic\n",
    "LEFT JOIN runs as static\n",
    "ON \n",
    "    static.size = dynamic.size AND \n",
    "    static.mean = dynamic.mean AND \n",
    "    static.sigma = dynamic.sigma AND \n",
    "    static.dataset_id = dynamic.dataset_id AND \n",
    "    static.method = dynamic.method AND\n",
    "    static.branching = \"static\"\n",
    "WHERE dynamic.mean = 0.0 AND dynamic.branching = \"dynamic\"\n",
    "GROUP BY \n",
    "    dynamic.method, dynamic.size\n",
    "ORDER BY dynamic.size, dynamic.method ASC\n"
   ],
   "metadata": {
    "collapsed": false,
    "pycharm": {
     "name": "#%%\n",
     "is_executing": false
    }
   }
  },
  {
   "cell_type": "markdown",
   "source": [
    "Note that the difference seems reasonable (< 2 times the number of visited nodes). This mainly occurs because the dynamic\n",
    "directs the search in zones where the UB \"thinks\" the results will be good as they give a good UB. Thus, the UB cuts less.\n",
    "However, it allows for a rapid discovery of very good solutions. What follows is the ratio between the number of nodes\n",
    "explored to find the optimal solution between the dynamic and the static method (lower is better):"
   ],
   "metadata": {
    "collapsed": false,
    "pycharm": {
     "name": "#%% md\n"
    }
   }
  },
  {
   "cell_type": "code",
   "execution_count": 21,
   "outputs": [
    {
     "name": "stdout",
     "text": [
      " * sqlite:///../results/synthetic_small.db\n",
      "Done.\n"
     ],
     "output_type": "stream"
    },
    {
     "data": {
      "text/plain": "[(10, 'fixed-bigm', 1.24),\n (10, 'lagrange', 1.83),\n (10, 'recompute-bigm', 1.84),\n (14, 'fixed-bigm', 1.22),\n (14, 'lagrange', 1.32),\n (14, 'recompute-bigm', 1.37),\n (18, 'fixed-bigm', 1.05),\n (18, 'lagrange', 1.36),\n (18, 'recompute-bigm', 1.82),\n (22, 'fixed-bigm', 1.06),\n (22, 'lagrange', 1.53),\n (22, 'recompute-bigm', 3.08),\n (26, 'fixed-bigm', 1.07),\n (26, 'lagrange', 1.3),\n (26, 'recompute-bigm', 3.25),\n (30, 'fixed-bigm', 1.09),\n (30, 'lagrange', 1.33),\n (30, 'recompute-bigm', 5.77)]",
      "text/html": "<table>\n    <tr>\n        <th>size</th>\n        <th>method</th>\n        <th>n_nodes_ratio_mean</th>\n    </tr>\n    <tr>\n        <td>10</td>\n        <td>fixed-bigm</td>\n        <td>1.24</td>\n    </tr>\n    <tr>\n        <td>10</td>\n        <td>lagrange</td>\n        <td>1.83</td>\n    </tr>\n    <tr>\n        <td>10</td>\n        <td>recompute-bigm</td>\n        <td>1.84</td>\n    </tr>\n    <tr>\n        <td>14</td>\n        <td>fixed-bigm</td>\n        <td>1.22</td>\n    </tr>\n    <tr>\n        <td>14</td>\n        <td>lagrange</td>\n        <td>1.32</td>\n    </tr>\n    <tr>\n        <td>14</td>\n        <td>recompute-bigm</td>\n        <td>1.37</td>\n    </tr>\n    <tr>\n        <td>18</td>\n        <td>fixed-bigm</td>\n        <td>1.05</td>\n    </tr>\n    <tr>\n        <td>18</td>\n        <td>lagrange</td>\n        <td>1.36</td>\n    </tr>\n    <tr>\n        <td>18</td>\n        <td>recompute-bigm</td>\n        <td>1.82</td>\n    </tr>\n    <tr>\n        <td>22</td>\n        <td>fixed-bigm</td>\n        <td>1.06</td>\n    </tr>\n    <tr>\n        <td>22</td>\n        <td>lagrange</td>\n        <td>1.53</td>\n    </tr>\n    <tr>\n        <td>22</td>\n        <td>recompute-bigm</td>\n        <td>3.08</td>\n    </tr>\n    <tr>\n        <td>26</td>\n        <td>fixed-bigm</td>\n        <td>1.07</td>\n    </tr>\n    <tr>\n        <td>26</td>\n        <td>lagrange</td>\n        <td>1.3</td>\n    </tr>\n    <tr>\n        <td>26</td>\n        <td>recompute-bigm</td>\n        <td>3.25</td>\n    </tr>\n    <tr>\n        <td>30</td>\n        <td>fixed-bigm</td>\n        <td>1.09</td>\n    </tr>\n    <tr>\n        <td>30</td>\n        <td>lagrange</td>\n        <td>1.33</td>\n    </tr>\n    <tr>\n        <td>30</td>\n        <td>recompute-bigm</td>\n        <td>5.77</td>\n    </tr>\n</table>"
     },
     "metadata": {},
     "output_type": "execute_result",
     "execution_count": 21
    }
   ],
   "source": [
    "%%sql\n",
    "SELECT\n",
    "       dynamic.size, dynamic.method,\n",
    "       ROUND(AVG(CAST(dynamic.best_sol_node as FLOAT)/static.best_sol_node), 2) as n_nodes_ratio_mean\n",
    "FROM runs as dynamic\n",
    "LEFT JOIN runs as static\n",
    "ON \n",
    "    static.size = dynamic.size AND \n",
    "    static.mean = dynamic.mean AND \n",
    "    static.sigma = dynamic.sigma AND \n",
    "    static.dataset_id = dynamic.dataset_id AND \n",
    "    static.method = dynamic.method AND\n",
    "    static.branching = \"static\"\n",
    "WHERE dynamic.mean = 0.2 AND dynamic.branching = \"dynamic\"\n",
    "GROUP BY \n",
    "    dynamic.method, dynamic.size\n",
    "ORDER BY dynamic.size, dynamic.method ASC"
   ],
   "metadata": {
    "collapsed": false,
    "pycharm": {
     "name": "#%%\n",
     "is_executing": false
    }
   }
  },
  {
   "cell_type": "code",
   "execution_count": null,
   "outputs": [],
   "source": [
    "\n"
   ],
   "metadata": {
    "collapsed": false,
    "pycharm": {
     "name": "#%%\n"
    }
   }
  }
 ],
 "metadata": {
  "kernelspec": {
   "display_name": "Python 3",
   "language": "python",
   "name": "python3"
  },
  "language_info": {
   "codemirror_mode": {
    "name": "ipython",
    "version": 2
   },
   "file_extension": ".py",
   "mimetype": "text/x-python",
   "name": "python",
   "nbconvert_exporter": "python",
   "pygments_lexer": "ipython2",
   "version": "2.7.6"
  },
  "pycharm": {
   "stem_cell": {
    "cell_type": "raw",
    "source": [],
    "metadata": {
     "collapsed": false
    }
   }
  }
 },
 "nbformat": 4,
 "nbformat_minor": 0
}